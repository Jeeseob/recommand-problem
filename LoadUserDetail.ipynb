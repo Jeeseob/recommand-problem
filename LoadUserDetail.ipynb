{
 "cells": [
  {
   "cell_type": "code",
   "execution_count": 31,
   "id": "c4bfccdb",
   "metadata": {},
   "outputs": [],
   "source": [
    "import requests\n",
    "\n",
    "from bs4 import BeautifulSoup as bs\n",
    "\n",
    "import pandas as pd\n",
    "\n",
    "import time"
   ]
  },
  {
   "cell_type": "markdown",
   "id": "8d8c0115",
   "metadata": {},
   "source": [
    "bojRank(int64) : 백준 등수 (등수) = 등수 뒤   \n",
    "solvedProblemCount(int64) : 맞은 문제  = u-solved  \n",
    "submissionCount(int64) : 제출 횟수 (제출) = 제출  \n",
    "collectCount(int64) : 정답 횟수 (맞았습니다.) = u-result-4  \n",
    "wrongCount(int64) : 오답 횟수 (틀렸습니다.) = u-result-6  \n",
    "tiemOverCount(int64) : 시간초과 횟수 (시간초과) = u-result-7\n",
    "memoryOverCount(int64) : 메모리초과 횟수 (메모리 추가) = u-result-8  \n",
    "solvedProblemList : 맞은 문제(text : List) = panel-body에 problem list에 있다.  \n",
    "unSolvedProblemList : 시도했지만 맞지 못한 문제(text : List) = panel-body problem list에 있다.  \n"
   ]
  },
  {
   "cell_type": "code",
   "execution_count": 23,
   "id": "773a483f",
   "metadata": {},
   "outputs": [
    {
     "name": "stdout",
     "output_type": "stream",
     "text": [
      "https://www.acmicpc.net/user/userId\n"
     ]
    }
   ],
   "source": [
    "# BaseUrl인 BackJoon에 사용자 ID를 더해 크롤링 주소를 만든다.\n",
    "crawling_url = 'https://www.acmicpc.net/user/'\n",
    "userId = 'userId'\n",
    "crawling_url = crawling_url + userId\n",
    "print(crawling_url)"
   ]
  },
  {
   "cell_type": "code",
   "execution_count": 29,
   "id": "dd556dc7",
   "metadata": {},
   "outputs": [
    {
     "name": "stdout",
     "output_type": "stream",
     "text": [
      "<html>\r\n",
      "<head><title>403 Forbidden</title></head>\r\n",
      "<body>\r\n",
      "<center><h1>403 Forbidden</h1></center>\r\n",
      "</body>\r\n",
      "</html>\r\n",
      "\n"
     ]
    }
   ],
   "source": [
    "response = requests.get(crawling_url)\n",
    "text = response.text\n",
    "print(text)"
   ]
  },
  {
   "cell_type": "code",
   "execution_count": 32,
   "id": "a21ebdf4",
   "metadata": {},
   "outputs": [
    {
     "name": "stdout",
     "output_type": "stream",
     "text": [
      "<html>\n",
      "<head><title>403 Forbidden</title></head>\n",
      "<body>\n",
      "<center><h1>403 Forbidden</h1></center>\n",
      "</body>\n",
      "</html>\n",
      "\n"
     ]
    }
   ],
   "source": [
    "soup = bs(text, \"html.parser\")\n",
    "print(soup)"
   ]
  },
  {
   "cell_type": "code",
   "execution_count": null,
   "id": "819f306d",
   "metadata": {},
   "outputs": [],
   "source": []
  }
 ],
 "metadata": {
  "kernelspec": {
   "display_name": "Python 3 (ipykernel)",
   "language": "python",
   "name": "python3"
  },
  "language_info": {
   "codemirror_mode": {
    "name": "ipython",
    "version": 3
   },
   "file_extension": ".py",
   "mimetype": "text/x-python",
   "name": "python",
   "nbconvert_exporter": "python",
   "pygments_lexer": "ipython3",
   "version": "3.9.7"
  }
 },
 "nbformat": 4,
 "nbformat_minor": 5
}
