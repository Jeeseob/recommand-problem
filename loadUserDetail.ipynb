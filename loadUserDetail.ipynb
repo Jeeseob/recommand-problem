{
 "cells": [
  {
   "cell_type": "code",
   "execution_count": 2,
   "id": "c4bfccdb",
   "metadata": {},
   "outputs": [],
   "source": [
    "import requests\n",
    "\n",
    "from bs4 import BeautifulSoup as bs\n",
    "\n",
    "import pandas as pd\n",
    "\n",
    "import numpy as np\n",
    "\n",
    "import time"
   ]
  },
  {
   "cell_type": "markdown",
   "id": "8d8c0115",
   "metadata": {},
   "source": [
    " solvedProblemCount(int64) : 맞은 문제   \n",
    "correctCount(int64) : 정답 횟수 (맞았습니다.)  \n",
    "wrongCount(int64) : 오답 횟수 (틀렸습니다.)               \n",
    "tiemOverCount(int64) : 시간초과 횟수 (시간초과)             \n",
    "memoryOverCount(int64) : 메모리초과 횟수 (메모리 초과)   \n",
    "overoutput(int64) : 출력초과 횟수 (출력초과)  \n",
    "runtimeerrorCount(int64) : 런타임 에러 횟수 (런타임 에러)    \n",
    "compileerrorCount(int64) : 컴파일 에러 횟수 (컴파일 에러)  \n",
    "solvedProblemList : 맞은 문제(text : List)               \n",
    "unSolvedProblemList : 시도했지만 맞지 못한 문제(text : List)"
   ]
  },
  {
   "cell_type": "markdown",
   "id": "da89c15a",
   "metadata": {},
   "source": [
    "| 데이터 이름           | 데이터 설명             |데이터가 있는 위치         |\n",
    "|--------------------|-----------------------|----------------------|\n",
    "| solvedProblemCount | 맞은 문제               | u-solved tag뒤에 위치  |\n",
    "| correctCount       | 정답 횟수 (맞았습니다.)    | u-result-4 tag뒤에 위치|\n",
    "| wrongCount         | 오답 횟수 (틀렸습니다.)    | u-result-6 tag뒤에 위치|\n",
    "| tiemOverCount      | 시간초과 횟수 (시간초과)    | u-result-7 tag뒤체 위치|\n",
    "| memoryOverCount    | 메모리초과 횟수 (메모리 초과)| u-result-8 tag뒤에 위치|\n",
    "| overoutputCount   | 출력초과 횟수(출력 초과)    | u-result-9 tag뒤에 위치|\n",
    "| runtimeerrorCount  | 런타임에러 횟수(런타임 에러) | u-result-10 tag뒤에 위치|\n",
    "| compileerrorCount  | 컴파일에러 횟수(컴파일 에러) | u-result-11 tag뒤에 위치|\n",
    "| solvedProblemList  | 맞은 문제(text : List)   |panel-body에 problem list에 위치 |\n",
    "| unSolvedProblemList|시도했지만 맞지 못한 문제(text : List)| panel-body problem list에 위치 |\n",
    "\n",
    "\n"
   ]
  },
  {
   "cell_type": "code",
   "execution_count": 3,
   "id": "05842cbd",
   "metadata": {},
   "outputs": [],
   "source": [
    "def read_user_csv():\n",
    "     return pd.read_csv(\"userData.csv\")"
   ]
  },
  {
   "cell_type": "code",
   "execution_count": 33,
   "id": "91e25661",
   "metadata": {},
   "outputs": [],
   "source": [
    "# 백준에서 사용자의 정보를 크롤링 하는 함수\n",
    "# 간격은 10분으로 크롤링을 진행한다. (ip ban을 방지)\n",
    "def DataCrawl(userId):\n",
    "    # BaseUrl인 BackJoon에 사용자 ID를 더해 크롤링 주소를 만든다.\n",
    "    crawling_url = 'https://www.acmicpc.net/user/'\n",
    "    crawling_url = crawling_url + userId\n",
    "    \n",
    "    # 정상적으로 크롤링을 하기 위해서 header를 삽입.\n",
    "    headers = {'User-Agent': 'Mozilla/5.0 (Macintosh; Intel Mac OS X 10_11_5) AppleWebKit/537.36 (KHTML, like Gecko) Chrome/50.0.2661.102 Safari/537.36'}\n",
    "    response = requests.get(crawling_url, headers=headers)\n",
    "    text = response.text\n",
    "    status = response.status_code;\n",
    "    if(status >= 400 | status < 500):\n",
    "        Block_User.loc[len(Block_User)] = [userId];\n",
    "    else:\n",
    "        soup = bs(text, \"html.parser\")\n",
    "        \n",
    "        user_Detail = soup.find('table',{'class':'table table-hover'})\n",
    "        for user_data in user_Detail:\n",
    "            solved = user_data.find('span',{'id': 'u-solved'}).text\n",
    "            correct = user_data.find('span',{'id': 'u-result-4'}).text\n",
    "            wrong = user_data.find('span',{'id': 'u-result-6'}).text\n",
    "            # 시간초과 횟수 항목이 있는지 확인   \n",
    "            if (user_data.find('span',{'id': 'u-result-7'})):\n",
    "                timeO = user_data.find('span',{'id': 'u-solved'}).text\n",
    "            else:\n",
    "                timeO = 0\n",
    "            # 메모리 초과횟수 항목이 있는지 확인   \n",
    "            if (user_data.find('span',{'id': 'u-result-8'})):\n",
    "                memoryO = user_data.find('span',{'id': 'u-result-8'}).text\n",
    "            else:\n",
    "                memoryO = 0\n",
    "            # 출력 에러 항목이 있는지 확인   \n",
    "            if (user_data.find('span',{'id': 'u-result-9'})):\n",
    "                overO = user_data.find('span',{'id': 'u-result-9'}).text\n",
    "            else :\n",
    "                overO = 0\n",
    "            # 런타임 에러 항목이 있는지 확인   \n",
    "            if (user_data.find('span',{'id': 'u-result-10'})):\n",
    "                runtimeE = user_data.find('span',{'id': 'u-result-10'}).text\n",
    "            else:\n",
    "                runtimeE = 0\n",
    "            # 컴파일 에러 항목이 있는지 확인\n",
    "            if (user_data.find('span',{'id': 'u-result-11'})):\n",
    "                compileE = user_data.find('span',{'id': 'u-result-11'}).text\n",
    "            else:\n",
    "                compileE = 0\n",
    "            # Data Frame에 항목 추가\n",
    "            User.loc[len(User)] = [userId, solved, correct, wrong, timeO, memoryO, overO, runtimeE, compileE]\n",
    "        \n",
    "            solved_Detail = soup.find_all('div',{'class':'problem-list'})\n",
    "            for solved_list in solved_Detail[0]:\n",
    "                if (solved_list.text == '\\n' or solved_list.text == ' '):\n",
    "                    temp = solved_list.text\n",
    "                else:\n",
    "                    solved = solved_list.text\n",
    "                    User_solved.loc[len(User_solved)] = [userId, solved]\n",
    "                \n",
    "            for unsolved_list in solved_Detail[1]:\n",
    "                if (unsolved_list.text == '\\n' or unsolved_list.text == ' '):\n",
    "                    temp = solved_list.text\n",
    "                else:\n",
    "                    unsolved = unsolved_list.text\n",
    "                    User_unsolved.loc[len(User_unsolved)] = [userId, unsolved]\n",
    "\n",
    "    print(userId)\n",
    "    time.sleep(5)\n",
    "    "
   ]
  },
  {
   "cell_type": "code",
   "execution_count": 34,
   "id": "81de38ef",
   "metadata": {},
   "outputs": [],
   "source": [
    "User = pd.DataFrame (columns = \n",
    "    [\n",
    "        \"User\",\n",
    "        \"SolvedProblemCount\",\n",
    "        \"CorrectedCount\",\n",
    "        \"WrongCount\",\n",
    "        \"TimeOverCount\",\n",
    "        \"MemoryOverCount\",\n",
    "        \"OverOutputCount\",\n",
    "        \"RuntimeErrorCount\",\n",
    "        \"CompileErrorCount\"\n",
    "    ]\n",
    ")\n",
    "\n",
    "Block_User = pd.DataFrame(columns= \n",
    "    [\n",
    "        \"BlockUser\"\n",
    "    ]\n",
    ")\n",
    "\n",
    "User_solved= pd.DataFrame (columns = \n",
    "    [\n",
    "        \"User\",\n",
    "        \"SolvedProblem\"\n",
    "    ]\n",
    ")\n",
    "\n",
    "User_unsolved = pd.DataFrame (columns = \n",
    "    [\n",
    "        \"User\",\n",
    "        \"UnSolvedProblem\"\n",
    "    ]\n",
    ")"
   ]
  },
  {
   "cell_type": "code",
   "execution_count": 35,
   "id": "a82f7322",
   "metadata": {},
   "outputs": [
    {
     "name": "stdout",
     "output_type": "stream",
     "text": [
      "404\n",
      "<class 'int'>\n",
      "xffff\n",
      "404\n",
      "<class 'int'>\n",
      "useridd\n",
      "404\n",
      "<class 'int'>\n",
      "asdasdsda\n",
      "200\n",
      "<class 'int'>\n",
      "arad4228\n"
     ]
    }
   ],
   "source": [
    "# 사용자의 정보를 CSV에서 읽어온다.\n",
    "user_csv = read_user_csv()\n",
    "# 사용자의 이름에 대한 배열을 제작.\n",
    "user_list = np.array(user_csv['handle'])\n",
    "\n",
    "for user in (user_list):\n",
    "    DataCrawl(user)\n",
    "\n",
    "# Block User와 엉뚱한 User, 정상적인 사용자 테스트\n",
    "#DataCrawl(\"xffff\")\n",
    "#ataCrawl(\"useridd\")\n",
    "#DataCrawl(\"asdasdsda\")\n",
    "#DataCrawl(\"arad4228\")"
   ]
  },
  {
   "cell_type": "code",
   "execution_count": 36,
   "id": "dd273310",
   "metadata": {},
   "outputs": [
    {
     "data": {
      "text/html": [
       "<div>\n",
       "<style scoped>\n",
       "    .dataframe tbody tr th:only-of-type {\n",
       "        vertical-align: middle;\n",
       "    }\n",
       "\n",
       "    .dataframe tbody tr th {\n",
       "        vertical-align: top;\n",
       "    }\n",
       "\n",
       "    .dataframe thead th {\n",
       "        text-align: right;\n",
       "    }\n",
       "</style>\n",
       "<table border=\"1\" class=\"dataframe\">\n",
       "  <thead>\n",
       "    <tr style=\"text-align: right;\">\n",
       "      <th></th>\n",
       "      <th>User</th>\n",
       "      <th>SolvedProblemCount</th>\n",
       "      <th>CorrectedCount</th>\n",
       "      <th>WrongCount</th>\n",
       "      <th>TimeOverCount</th>\n",
       "      <th>MemoryOverCount</th>\n",
       "      <th>OverOutputCount</th>\n",
       "      <th>RuntimeErrorCount</th>\n",
       "      <th>CompileErrorCount</th>\n",
       "    </tr>\n",
       "  </thead>\n",
       "  <tbody>\n",
       "    <tr>\n",
       "      <th>0</th>\n",
       "      <td>arad4228</td>\n",
       "      <td>25</td>\n",
       "      <td>36</td>\n",
       "      <td>42</td>\n",
       "      <td>25</td>\n",
       "      <td>1</td>\n",
       "      <td>4</td>\n",
       "      <td>15</td>\n",
       "      <td>4</td>\n",
       "    </tr>\n",
       "  </tbody>\n",
       "</table>\n",
       "</div>"
      ],
      "text/plain": [
       "       User SolvedProblemCount CorrectedCount WrongCount TimeOverCount  \\\n",
       "0  arad4228                 25             36         42            25   \n",
       "\n",
       "  MemoryOverCount OverOutputCount RuntimeErrorCount CompileErrorCount  \n",
       "0               1               4                15                 4  "
      ]
     },
     "execution_count": 36,
     "metadata": {},
     "output_type": "execute_result"
    }
   ],
   "source": [
    "User"
   ]
  },
  {
   "cell_type": "code",
   "execution_count": 37,
   "id": "eadb527e",
   "metadata": {},
   "outputs": [
    {
     "data": {
      "text/html": [
       "<div>\n",
       "<style scoped>\n",
       "    .dataframe tbody tr th:only-of-type {\n",
       "        vertical-align: middle;\n",
       "    }\n",
       "\n",
       "    .dataframe tbody tr th {\n",
       "        vertical-align: top;\n",
       "    }\n",
       "\n",
       "    .dataframe thead th {\n",
       "        text-align: right;\n",
       "    }\n",
       "</style>\n",
       "<table border=\"1\" class=\"dataframe\">\n",
       "  <thead>\n",
       "    <tr style=\"text-align: right;\">\n",
       "      <th></th>\n",
       "      <th>BlockUser</th>\n",
       "    </tr>\n",
       "  </thead>\n",
       "  <tbody>\n",
       "    <tr>\n",
       "      <th>0</th>\n",
       "      <td>xffff</td>\n",
       "    </tr>\n",
       "    <tr>\n",
       "      <th>1</th>\n",
       "      <td>useridd</td>\n",
       "    </tr>\n",
       "    <tr>\n",
       "      <th>2</th>\n",
       "      <td>asdasdsda</td>\n",
       "    </tr>\n",
       "  </tbody>\n",
       "</table>\n",
       "</div>"
      ],
      "text/plain": [
       "   BlockUser\n",
       "0      xffff\n",
       "1    useridd\n",
       "2  asdasdsda"
      ]
     },
     "execution_count": 37,
     "metadata": {},
     "output_type": "execute_result"
    }
   ],
   "source": [
    "Block_User"
   ]
  },
  {
   "cell_type": "code",
   "execution_count": null,
   "id": "7ebd63a0",
   "metadata": {},
   "outputs": [],
   "source": [
    "User_solved"
   ]
  },
  {
   "cell_type": "code",
   "execution_count": null,
   "id": "935f5eaa",
   "metadata": {},
   "outputs": [],
   "source": [
    "User_unsolved"
   ]
  },
  {
   "cell_type": "code",
   "execution_count": null,
   "id": "e574893e",
   "metadata": {},
   "outputs": [],
   "source": []
  },
  {
   "cell_type": "code",
   "execution_count": null,
   "id": "58e12cbc",
   "metadata": {},
   "outputs": [],
   "source": []
  }
 ],
 "metadata": {
  "kernelspec": {
   "display_name": "Python 3 (ipykernel)",
   "language": "python",
   "name": "python3"
  },
  "language_info": {
   "codemirror_mode": {
    "name": "ipython",
    "version": 3
   },
   "file_extension": ".py",
   "mimetype": "text/x-python",
   "name": "python",
   "nbconvert_exporter": "python",
   "pygments_lexer": "ipython3",
   "version": "3.9.7"
  }
 },
 "nbformat": 4,
 "nbformat_minor": 5
}
