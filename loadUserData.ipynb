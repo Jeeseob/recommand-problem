{
 "cells": [
  {
   "cell_type": "code",
   "execution_count": 9,
   "id": "156dde5a",
   "metadata": {},
   "outputs": [],
   "source": [
    "import requests\n",
    "import json\n",
    "\n",
    "import pandas as pd\n",
    "\n",
    "import time"
   ]
  },
  {
   "cell_type": "markdown",
   "id": "7ca6ae0b",
   "metadata": {},
   "source": [
    "handle : 사용자 명   \n",
    "solvedCount : 푼 문제수   \n",
    "exp : 경험치량   \n",
    "tier : 현재 티어 - 브론즈 5 : 1, 브론즈 4 : 2 ~~~  \n",
    "rating : 레이팅   \n",
    "ratingByProblemsSum : 푼 문제의 난이도 합으로 계산한 레이팅(최대 100문제)   \n",
    "ratingByClass : 클래스로 계산한 레이팅   "
   ]
  },
  {
   "cell_type": "code",
   "execution_count": 10,
   "id": "5bf2526b",
   "metadata": {},
   "outputs": [],
   "source": [
    "userDataFrame = pd.DataFrame( columns=[\"handle\", \"solvedCount\", \"exp\", \"tier\", \"rating\", \"ratingByProblemsSum\", \"ratingByClass\"])"
   ]
  },
  {
   "cell_type": "code",
   "execution_count": 11,
   "id": "3a125830",
   "metadata": {},
   "outputs": [],
   "source": [
    "def loadUserJson(i) :\n",
    "    headerDict = {}\n",
    "    headerDict.setdefault('page', str(i))\n",
    "    return requests.get('https://solved.ac/api/v3/ranking/tier', headers=headerDict)"
   ]
  },
  {
   "cell_type": "code",
   "execution_count": 12,
   "id": "18b9c110",
   "metadata": {},
   "outputs": [],
   "source": [
    "def saveUserJson(tempUser) :\n",
    "    userDataFrame.loc[len(userDataFrame)] = [\n",
    "        tempUser['handle'],\n",
    "        tempUser['solvedCount'],\n",
    "        tempUser['exp'],\n",
    "        tempUser['tier'],\n",
    "        tempUser['rating'],\n",
    "        tempUser['ratingByProblemsSum'],\n",
    "        tempUser['ratingByClass']]"
   ]
  },
  {
   "cell_type": "code",
   "execution_count": 13,
   "id": "289e3f89",
   "metadata": {},
   "outputs": [],
   "source": [
    "def loadUserData():\n",
    "    # 총 100명씩, 611 페이지의 유저 정보 페이지가 존재한다.\n",
    "    #for i in range(3) :\n",
    "    for i in range(611) :\n",
    "            # 페이지는 1부터 시작하기 때문에 1을 더해준다.\n",
    "        apiRequest = loadUserJson(i+1)\n",
    "        if(apiRequest.status_code == 200) :\n",
    "            users = apiRequest.json()['items']\n",
    "            for tempUser in users :\n",
    "                saveUserJson(tempUser)\n",
    "        else :\n",
    "            print(apiRequset.status_code)\n",
    "            return\n",
    "        time.sleep(1)"
   ]
  },
  {
   "cell_type": "code",
   "execution_count": 14,
   "id": "eac0cafe",
   "metadata": {
    "scrolled": true
   },
   "outputs": [
    {
     "ename": "JSONDecodeError",
     "evalue": "Expecting value: line 1 column 1 (char 0)",
     "output_type": "error",
     "traceback": [
      "\u001b[0;31m---------------------------------------------------------------------------\u001b[0m",
      "\u001b[0;31mJSONDecodeError\u001b[0m                           Traceback (most recent call last)",
      "\u001b[0;32m<ipython-input-14-3d5c142d9e0d>\u001b[0m in \u001b[0;36m<module>\u001b[0;34m\u001b[0m\n\u001b[0;32m----> 1\u001b[0;31m \u001b[0mloadUserData\u001b[0m\u001b[0;34m(\u001b[0m\u001b[0;34m)\u001b[0m\u001b[0;34m\u001b[0m\u001b[0;34m\u001b[0m\u001b[0m\n\u001b[0m",
      "\u001b[0;32m<ipython-input-13-6a9026b33f43>\u001b[0m in \u001b[0;36mloadUserData\u001b[0;34m()\u001b[0m\n\u001b[1;32m      5\u001b[0m             \u001b[0;31m# 페이지는 1부터 시작하기 때문에 1을 더해준다.\u001b[0m\u001b[0;34m\u001b[0m\u001b[0;34m\u001b[0m\u001b[0;34m\u001b[0m\u001b[0m\n\u001b[1;32m      6\u001b[0m         \u001b[0mapiRequest\u001b[0m \u001b[0;34m=\u001b[0m \u001b[0mloadUserJson\u001b[0m\u001b[0;34m(\u001b[0m\u001b[0mi\u001b[0m\u001b[0;34m+\u001b[0m\u001b[0;36m1\u001b[0m\u001b[0;34m)\u001b[0m\u001b[0;34m\u001b[0m\u001b[0;34m\u001b[0m\u001b[0m\n\u001b[0;32m----> 7\u001b[0;31m         \u001b[0musers\u001b[0m \u001b[0;34m=\u001b[0m \u001b[0mapiRequest\u001b[0m\u001b[0;34m.\u001b[0m\u001b[0mjson\u001b[0m\u001b[0;34m(\u001b[0m\u001b[0;34m)\u001b[0m\u001b[0;34m[\u001b[0m\u001b[0;34m'items'\u001b[0m\u001b[0;34m]\u001b[0m\u001b[0;34m\u001b[0m\u001b[0;34m\u001b[0m\u001b[0m\n\u001b[0m\u001b[1;32m      8\u001b[0m         \u001b[0;32mif\u001b[0m\u001b[0;34m(\u001b[0m\u001b[0mapiRequest\u001b[0m\u001b[0;34m.\u001b[0m\u001b[0mstatus_code\u001b[0m \u001b[0;34m==\u001b[0m \u001b[0;36m200\u001b[0m\u001b[0;34m)\u001b[0m \u001b[0;34m:\u001b[0m\u001b[0;34m\u001b[0m\u001b[0;34m\u001b[0m\u001b[0m\n\u001b[1;32m      9\u001b[0m             \u001b[0;32mfor\u001b[0m \u001b[0mtempUser\u001b[0m \u001b[0;32min\u001b[0m \u001b[0musers\u001b[0m \u001b[0;34m:\u001b[0m\u001b[0;34m\u001b[0m\u001b[0;34m\u001b[0m\u001b[0m\n",
      "\u001b[0;32m~/miniforge3/lib/python3.9/site-packages/requests/models.py\u001b[0m in \u001b[0;36mjson\u001b[0;34m(self, **kwargs)\u001b[0m\n\u001b[1;32m    898\u001b[0m                     \u001b[0;31m# used.\u001b[0m\u001b[0;34m\u001b[0m\u001b[0;34m\u001b[0m\u001b[0;34m\u001b[0m\u001b[0m\n\u001b[1;32m    899\u001b[0m                     \u001b[0;32mpass\u001b[0m\u001b[0;34m\u001b[0m\u001b[0;34m\u001b[0m\u001b[0m\n\u001b[0;32m--> 900\u001b[0;31m         \u001b[0;32mreturn\u001b[0m \u001b[0mcomplexjson\u001b[0m\u001b[0;34m.\u001b[0m\u001b[0mloads\u001b[0m\u001b[0;34m(\u001b[0m\u001b[0mself\u001b[0m\u001b[0;34m.\u001b[0m\u001b[0mtext\u001b[0m\u001b[0;34m,\u001b[0m \u001b[0;34m**\u001b[0m\u001b[0mkwargs\u001b[0m\u001b[0;34m)\u001b[0m\u001b[0;34m\u001b[0m\u001b[0;34m\u001b[0m\u001b[0m\n\u001b[0m\u001b[1;32m    901\u001b[0m \u001b[0;34m\u001b[0m\u001b[0m\n\u001b[1;32m    902\u001b[0m     \u001b[0;34m@\u001b[0m\u001b[0mproperty\u001b[0m\u001b[0;34m\u001b[0m\u001b[0;34m\u001b[0m\u001b[0m\n",
      "\u001b[0;32m~/miniforge3/lib/python3.9/json/__init__.py\u001b[0m in \u001b[0;36mloads\u001b[0;34m(s, cls, object_hook, parse_float, parse_int, parse_constant, object_pairs_hook, **kw)\u001b[0m\n\u001b[1;32m    344\u001b[0m             \u001b[0mparse_int\u001b[0m \u001b[0;32mis\u001b[0m \u001b[0;32mNone\u001b[0m \u001b[0;32mand\u001b[0m \u001b[0mparse_float\u001b[0m \u001b[0;32mis\u001b[0m \u001b[0;32mNone\u001b[0m \u001b[0;32mand\u001b[0m\u001b[0;34m\u001b[0m\u001b[0;34m\u001b[0m\u001b[0m\n\u001b[1;32m    345\u001b[0m             parse_constant is None and object_pairs_hook is None and not kw):\n\u001b[0;32m--> 346\u001b[0;31m         \u001b[0;32mreturn\u001b[0m \u001b[0m_default_decoder\u001b[0m\u001b[0;34m.\u001b[0m\u001b[0mdecode\u001b[0m\u001b[0;34m(\u001b[0m\u001b[0ms\u001b[0m\u001b[0;34m)\u001b[0m\u001b[0;34m\u001b[0m\u001b[0;34m\u001b[0m\u001b[0m\n\u001b[0m\u001b[1;32m    347\u001b[0m     \u001b[0;32mif\u001b[0m \u001b[0mcls\u001b[0m \u001b[0;32mis\u001b[0m \u001b[0;32mNone\u001b[0m\u001b[0;34m:\u001b[0m\u001b[0;34m\u001b[0m\u001b[0;34m\u001b[0m\u001b[0m\n\u001b[1;32m    348\u001b[0m         \u001b[0mcls\u001b[0m \u001b[0;34m=\u001b[0m \u001b[0mJSONDecoder\u001b[0m\u001b[0;34m\u001b[0m\u001b[0;34m\u001b[0m\u001b[0m\n",
      "\u001b[0;32m~/miniforge3/lib/python3.9/json/decoder.py\u001b[0m in \u001b[0;36mdecode\u001b[0;34m(self, s, _w)\u001b[0m\n\u001b[1;32m    335\u001b[0m \u001b[0;34m\u001b[0m\u001b[0m\n\u001b[1;32m    336\u001b[0m         \"\"\"\n\u001b[0;32m--> 337\u001b[0;31m         \u001b[0mobj\u001b[0m\u001b[0;34m,\u001b[0m \u001b[0mend\u001b[0m \u001b[0;34m=\u001b[0m \u001b[0mself\u001b[0m\u001b[0;34m.\u001b[0m\u001b[0mraw_decode\u001b[0m\u001b[0;34m(\u001b[0m\u001b[0ms\u001b[0m\u001b[0;34m,\u001b[0m \u001b[0midx\u001b[0m\u001b[0;34m=\u001b[0m\u001b[0m_w\u001b[0m\u001b[0;34m(\u001b[0m\u001b[0ms\u001b[0m\u001b[0;34m,\u001b[0m \u001b[0;36m0\u001b[0m\u001b[0;34m)\u001b[0m\u001b[0;34m.\u001b[0m\u001b[0mend\u001b[0m\u001b[0;34m(\u001b[0m\u001b[0;34m)\u001b[0m\u001b[0;34m)\u001b[0m\u001b[0;34m\u001b[0m\u001b[0;34m\u001b[0m\u001b[0m\n\u001b[0m\u001b[1;32m    338\u001b[0m         \u001b[0mend\u001b[0m \u001b[0;34m=\u001b[0m \u001b[0m_w\u001b[0m\u001b[0;34m(\u001b[0m\u001b[0ms\u001b[0m\u001b[0;34m,\u001b[0m \u001b[0mend\u001b[0m\u001b[0;34m)\u001b[0m\u001b[0;34m.\u001b[0m\u001b[0mend\u001b[0m\u001b[0;34m(\u001b[0m\u001b[0;34m)\u001b[0m\u001b[0;34m\u001b[0m\u001b[0;34m\u001b[0m\u001b[0m\n\u001b[1;32m    339\u001b[0m         \u001b[0;32mif\u001b[0m \u001b[0mend\u001b[0m \u001b[0;34m!=\u001b[0m \u001b[0mlen\u001b[0m\u001b[0;34m(\u001b[0m\u001b[0ms\u001b[0m\u001b[0;34m)\u001b[0m\u001b[0;34m:\u001b[0m\u001b[0;34m\u001b[0m\u001b[0;34m\u001b[0m\u001b[0m\n",
      "\u001b[0;32m~/miniforge3/lib/python3.9/json/decoder.py\u001b[0m in \u001b[0;36mraw_decode\u001b[0;34m(self, s, idx)\u001b[0m\n\u001b[1;32m    353\u001b[0m             \u001b[0mobj\u001b[0m\u001b[0;34m,\u001b[0m \u001b[0mend\u001b[0m \u001b[0;34m=\u001b[0m \u001b[0mself\u001b[0m\u001b[0;34m.\u001b[0m\u001b[0mscan_once\u001b[0m\u001b[0;34m(\u001b[0m\u001b[0ms\u001b[0m\u001b[0;34m,\u001b[0m \u001b[0midx\u001b[0m\u001b[0;34m)\u001b[0m\u001b[0;34m\u001b[0m\u001b[0;34m\u001b[0m\u001b[0m\n\u001b[1;32m    354\u001b[0m         \u001b[0;32mexcept\u001b[0m \u001b[0mStopIteration\u001b[0m \u001b[0;32mas\u001b[0m \u001b[0merr\u001b[0m\u001b[0;34m:\u001b[0m\u001b[0;34m\u001b[0m\u001b[0;34m\u001b[0m\u001b[0m\n\u001b[0;32m--> 355\u001b[0;31m             \u001b[0;32mraise\u001b[0m \u001b[0mJSONDecodeError\u001b[0m\u001b[0;34m(\u001b[0m\u001b[0;34m\"Expecting value\"\u001b[0m\u001b[0;34m,\u001b[0m \u001b[0ms\u001b[0m\u001b[0;34m,\u001b[0m \u001b[0merr\u001b[0m\u001b[0;34m.\u001b[0m\u001b[0mvalue\u001b[0m\u001b[0;34m)\u001b[0m \u001b[0;32mfrom\u001b[0m \u001b[0;32mNone\u001b[0m\u001b[0;34m\u001b[0m\u001b[0;34m\u001b[0m\u001b[0m\n\u001b[0m\u001b[1;32m    356\u001b[0m         \u001b[0;32mreturn\u001b[0m \u001b[0mobj\u001b[0m\u001b[0;34m,\u001b[0m \u001b[0mend\u001b[0m\u001b[0;34m\u001b[0m\u001b[0;34m\u001b[0m\u001b[0m\n",
      "\u001b[0;31mJSONDecodeError\u001b[0m: Expecting value: line 1 column 1 (char 0)"
     ]
    }
   ],
   "source": [
    "loadUserData()"
   ]
  },
  {
   "cell_type": "code",
   "execution_count": 16,
   "id": "029edcdc",
   "metadata": {},
   "outputs": [
    {
     "ename": "NameError",
     "evalue": "name 'apiRequest' is not defined",
     "output_type": "error",
     "traceback": [
      "\u001b[0;31m---------------------------------------------------------------------------\u001b[0m",
      "\u001b[0;31mNameError\u001b[0m                                 Traceback (most recent call last)",
      "\u001b[0;32m<ipython-input-16-5e8ea842f818>\u001b[0m in \u001b[0;36m<module>\u001b[0;34m\u001b[0m\n\u001b[0;32m----> 1\u001b[0;31m \u001b[0mapiRequest\u001b[0m\u001b[0;34m.\u001b[0m\u001b[0mstatus_code\u001b[0m\u001b[0;34m\u001b[0m\u001b[0;34m\u001b[0m\u001b[0m\n\u001b[0m",
      "\u001b[0;31mNameError\u001b[0m: name 'apiRequest' is not defined"
     ]
    }
   ],
   "source": [
    "apiRequest.status_code"
   ]
  },
  {
   "cell_type": "code",
   "execution_count": 15,
   "id": "c7c1e1da",
   "metadata": {
    "scrolled": true
   },
   "outputs": [
    {
     "data": {
      "text/html": [
       "<div>\n",
       "<style scoped>\n",
       "    .dataframe tbody tr th:only-of-type {\n",
       "        vertical-align: middle;\n",
       "    }\n",
       "\n",
       "    .dataframe tbody tr th {\n",
       "        vertical-align: top;\n",
       "    }\n",
       "\n",
       "    .dataframe thead th {\n",
       "        text-align: right;\n",
       "    }\n",
       "</style>\n",
       "<table border=\"1\" class=\"dataframe\">\n",
       "  <thead>\n",
       "    <tr style=\"text-align: right;\">\n",
       "      <th></th>\n",
       "      <th>handle</th>\n",
       "      <th>solvedCount</th>\n",
       "      <th>exp</th>\n",
       "      <th>tier</th>\n",
       "      <th>rating</th>\n",
       "      <th>ratingByProblemsSum</th>\n",
       "      <th>ratingByClass</th>\n",
       "    </tr>\n",
       "  </thead>\n",
       "  <tbody>\n",
       "    <tr>\n",
       "      <th>0</th>\n",
       "      <td>koosaga</td>\n",
       "      <td>10831</td>\n",
       "      <td>13938731160</td>\n",
       "      <td>31</td>\n",
       "      <td>3252</td>\n",
       "      <td>2802</td>\n",
       "      <td>250</td>\n",
       "    </tr>\n",
       "    <tr>\n",
       "      <th>1</th>\n",
       "      <td>cki86201</td>\n",
       "      <td>6058</td>\n",
       "      <td>10297121101</td>\n",
       "      <td>31</td>\n",
       "      <td>3231</td>\n",
       "      <td>2781</td>\n",
       "      <td>250</td>\n",
       "    </tr>\n",
       "    <tr>\n",
       "      <th>2</th>\n",
       "      <td>mitnegativeinfinity</td>\n",
       "      <td>2137</td>\n",
       "      <td>6299290818</td>\n",
       "      <td>31</td>\n",
       "      <td>3178</td>\n",
       "      <td>2728</td>\n",
       "      <td>250</td>\n",
       "    </tr>\n",
       "    <tr>\n",
       "      <th>3</th>\n",
       "      <td>ainta</td>\n",
       "      <td>4108</td>\n",
       "      <td>6951756941</td>\n",
       "      <td>31</td>\n",
       "      <td>3136</td>\n",
       "      <td>2686</td>\n",
       "      <td>250</td>\n",
       "    </tr>\n",
       "    <tr>\n",
       "      <th>4</th>\n",
       "      <td>yclock</td>\n",
       "      <td>2661</td>\n",
       "      <td>4133441019</td>\n",
       "      <td>31</td>\n",
       "      <td>3117</td>\n",
       "      <td>2667</td>\n",
       "      <td>250</td>\n",
       "    </tr>\n",
       "    <tr>\n",
       "      <th>...</th>\n",
       "      <td>...</td>\n",
       "      <td>...</td>\n",
       "      <td>...</td>\n",
       "      <td>...</td>\n",
       "      <td>...</td>\n",
       "      <td>...</td>\n",
       "      <td>...</td>\n",
       "    </tr>\n",
       "    <tr>\n",
       "      <th>12795</th>\n",
       "      <td>kimjihoon</td>\n",
       "      <td>1377</td>\n",
       "      <td>825575478</td>\n",
       "      <td>25</td>\n",
       "      <td>2673</td>\n",
       "      <td>2278</td>\n",
       "      <td>220</td>\n",
       "    </tr>\n",
       "    <tr>\n",
       "      <th>12796</th>\n",
       "      <td>khsoo01</td>\n",
       "      <td>1318</td>\n",
       "      <td>1133364670</td>\n",
       "      <td>25</td>\n",
       "      <td>2671</td>\n",
       "      <td>2371</td>\n",
       "      <td>100</td>\n",
       "    </tr>\n",
       "    <tr>\n",
       "      <th>12797</th>\n",
       "      <td>soloplay</td>\n",
       "      <td>661</td>\n",
       "      <td>691315670</td>\n",
       "      <td>25</td>\n",
       "      <td>2670</td>\n",
       "      <td>2246</td>\n",
       "      <td>230</td>\n",
       "    </tr>\n",
       "    <tr>\n",
       "      <th>12798</th>\n",
       "      <td>klimmek55</td>\n",
       "      <td>3333</td>\n",
       "      <td>655147039</td>\n",
       "      <td>25</td>\n",
       "      <td>2665</td>\n",
       "      <td>2235</td>\n",
       "      <td>230</td>\n",
       "    </tr>\n",
       "    <tr>\n",
       "      <th>12799</th>\n",
       "      <td>himyu</td>\n",
       "      <td>639</td>\n",
       "      <td>428451668</td>\n",
       "      <td>25</td>\n",
       "      <td>2663</td>\n",
       "      <td>2230</td>\n",
       "      <td>240</td>\n",
       "    </tr>\n",
       "  </tbody>\n",
       "</table>\n",
       "<p>12800 rows × 7 columns</p>\n",
       "</div>"
      ],
      "text/plain": [
       "                    handle solvedCount          exp tier rating  \\\n",
       "0                  koosaga       10831  13938731160   31   3252   \n",
       "1                 cki86201        6058  10297121101   31   3231   \n",
       "2      mitnegativeinfinity        2137   6299290818   31   3178   \n",
       "3                    ainta        4108   6951756941   31   3136   \n",
       "4                   yclock        2661   4133441019   31   3117   \n",
       "...                    ...         ...          ...  ...    ...   \n",
       "12795            kimjihoon        1377    825575478   25   2673   \n",
       "12796              khsoo01        1318   1133364670   25   2671   \n",
       "12797             soloplay         661    691315670   25   2670   \n",
       "12798            klimmek55        3333    655147039   25   2665   \n",
       "12799                himyu         639    428451668   25   2663   \n",
       "\n",
       "      ratingByProblemsSum ratingByClass  \n",
       "0                    2802           250  \n",
       "1                    2781           250  \n",
       "2                    2728           250  \n",
       "3                    2686           250  \n",
       "4                    2667           250  \n",
       "...                   ...           ...  \n",
       "12795                2278           220  \n",
       "12796                2371           100  \n",
       "12797                2246           230  \n",
       "12798                2235           230  \n",
       "12799                2230           240  \n",
       "\n",
       "[12800 rows x 7 columns]"
      ]
     },
     "execution_count": 15,
     "metadata": {},
     "output_type": "execute_result"
    }
   ],
   "source": [
    "userDataFrame"
   ]
  },
  {
   "cell_type": "code",
   "execution_count": 17,
   "id": "1964b313",
   "metadata": {},
   "outputs": [],
   "source": [
    "userDataFrame.to_csv(\"userData.csv\", mode='w', encoding='utf-8')"
   ]
  },
  {
   "cell_type": "code",
   "execution_count": null,
   "id": "f53f227b",
   "metadata": {},
   "outputs": [],
   "source": []
  }
 ],
 "metadata": {
  "kernelspec": {
   "display_name": "dataCampus",
   "language": "python",
   "name": "datacampus"
  },
  "language_info": {
   "codemirror_mode": {
    "name": "ipython",
    "version": 3
   },
   "file_extension": ".py",
   "mimetype": "text/x-python",
   "name": "python",
   "nbconvert_exporter": "python",
   "pygments_lexer": "ipython3",
   "version": "3.9.4"
  }
 },
 "nbformat": 4,
 "nbformat_minor": 5
}
