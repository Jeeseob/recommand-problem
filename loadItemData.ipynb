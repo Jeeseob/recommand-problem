{
 "cells": [
  {
   "cell_type": "code",
   "execution_count": 22,
   "id": "bacab425",
   "metadata": {},
   "outputs": [],
   "source": [
    "import requests\n",
    "from bs4 import BeautifulSoup as bs\n",
    "\n",
    "problemList = []"
   ]
  },
  {
   "cell_type": "markdown",
   "id": "ff730fee",
   "metadata": {},
   "source": [
    "bronze5 ~ ruby1 리스트"
   ]
  },
  {
   "cell_type": "code",
   "execution_count": 23,
   "id": "c26a94f9",
   "metadata": {},
   "outputs": [],
   "source": [
    "import time\n",
    "\n",
    "for i in range(1, 32):\n",
    "    for j in range(1, 10):\n",
    "        crawling_url = 'https://solved.ac/problems/level/'+ str(i) + '?page=' + str(j)\n",
    "        if not crawling_url:\n",
    "            break\n",
    "        response = requests.get(crawling_url)\n",
    "        text = response.text\n",
    "        soup = bs(text, 'html.parser')\n",
    "        problems = soup.find_all('a', 'ProblemInline__ProblemStyle-sc-yu6g1r-0 jRAQI')\n",
    "        for problem in problems:\n",
    "            temp = problem.find('span').text\n",
    "            problemList.append(temp)\n",
    "        time.sleep(3)\n"
   ]
  },
  {
   "cell_type": "markdown",
   "id": "a31f1afb",
   "metadata": {},
   "source": [
    "각 리스트로 넣을 방법이 if문으로 하나씩 들어가는 것밖에 생각이 안남"
   ]
  },
  {
   "cell_type": "code",
   "execution_count": 30,
   "id": "4dd28449",
   "metadata": {
    "scrolled": true
   },
   "outputs": [],
   "source": [
    "import pandas as pd\n",
    "import numpy as np\n",
    "\n",
    "dataFrameProblem = {'problem' : problemList,}\n",
    "\n",
    "res = pd.DataFrame.from_dict(dataFrameProblem, orient='index')"
   ]
  },
  {
   "cell_type": "code",
   "execution_count": 31,
   "id": "d3e344ab",
   "metadata": {},
   "outputs": [
    {
     "data": {
      "text/html": [
       "<div>\n",
       "<style scoped>\n",
       "    .dataframe tbody tr th:only-of-type {\n",
       "        vertical-align: middle;\n",
       "    }\n",
       "\n",
       "    .dataframe tbody tr th {\n",
       "        vertical-align: top;\n",
       "    }\n",
       "\n",
       "    .dataframe thead th {\n",
       "        text-align: right;\n",
       "    }\n",
       "</style>\n",
       "<table border=\"1\" class=\"dataframe\">\n",
       "  <thead>\n",
       "    <tr style=\"text-align: right;\">\n",
       "      <th></th>\n",
       "      <th>problem</th>\n",
       "    </tr>\n",
       "  </thead>\n",
       "  <tbody>\n",
       "    <tr>\n",
       "      <th>0</th>\n",
       "      <td>1000</td>\n",
       "    </tr>\n",
       "    <tr>\n",
       "      <th>1</th>\n",
       "      <td>1001</td>\n",
       "    </tr>\n",
       "    <tr>\n",
       "      <th>2</th>\n",
       "      <td>1271</td>\n",
       "    </tr>\n",
       "    <tr>\n",
       "      <th>3</th>\n",
       "      <td>1550</td>\n",
       "    </tr>\n",
       "    <tr>\n",
       "      <th>4</th>\n",
       "      <td>2338</td>\n",
       "    </tr>\n",
       "    <tr>\n",
       "      <th>...</th>\n",
       "      <td>...</td>\n",
       "    </tr>\n",
       "    <tr>\n",
       "      <th>15732</th>\n",
       "      <td>21789</td>\n",
       "    </tr>\n",
       "    <tr>\n",
       "      <th>15733</th>\n",
       "      <td>21828</td>\n",
       "    </tr>\n",
       "    <tr>\n",
       "      <th>15734</th>\n",
       "      <td>22027</td>\n",
       "    </tr>\n",
       "    <tr>\n",
       "      <th>15735</th>\n",
       "      <td>23118</td>\n",
       "    </tr>\n",
       "    <tr>\n",
       "      <th>15736</th>\n",
       "      <td>23652</td>\n",
       "    </tr>\n",
       "  </tbody>\n",
       "</table>\n",
       "<p>15737 rows × 1 columns</p>\n",
       "</div>"
      ],
      "text/plain": [
       "      problem\n",
       "0        1000\n",
       "1        1001\n",
       "2        1271\n",
       "3        1550\n",
       "4        2338\n",
       "...       ...\n",
       "15732   21789\n",
       "15733   21828\n",
       "15734   22027\n",
       "15735   23118\n",
       "15736   23652\n",
       "\n",
       "[15737 rows x 1 columns]"
      ]
     },
     "execution_count": 31,
     "metadata": {},
     "output_type": "execute_result"
    }
   ],
   "source": [
    "res = res.transpose()\n",
    "res"
   ]
  },
  {
   "cell_type": "code",
   "execution_count": 32,
   "id": "a23e311c",
   "metadata": {},
   "outputs": [],
   "source": [
    "res.to_csv(\"problemInfo.csv\")"
   ]
  },
  {
   "cell_type": "code",
   "execution_count": null,
   "id": "4dc47516",
   "metadata": {},
   "outputs": [],
   "source": []
  }
 ],
 "metadata": {
  "kernelspec": {
   "display_name": "Python 3 (ipykernel)",
   "language": "python",
   "name": "python3"
  },
  "language_info": {
   "codemirror_mode": {
    "name": "ipython",
    "version": 3
   },
   "file_extension": ".py",
   "mimetype": "text/x-python",
   "name": "python",
   "nbconvert_exporter": "python",
   "pygments_lexer": "ipython3",
   "version": "3.9.13"
  }
 },
 "nbformat": 4,
 "nbformat_minor": 5
}
