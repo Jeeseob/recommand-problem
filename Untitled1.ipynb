{
 "cells": [
  {
   "cell_type": "code",
   "execution_count": 4,
   "id": "c6c39372",
   "metadata": {},
   "outputs": [],
   "source": [
    "import pandas as pd\n",
    "import numpy as np\n",
    "import csv"
   ]
  },
  {
   "cell_type": "code",
   "execution_count": 7,
   "id": "2534dd7b",
   "metadata": {},
   "outputs": [],
   "source": [
    "def read_user_csv():\n",
    "     return pd.read_csv(\"data/problemDetail.csv\")"
   ]
  },
  {
   "cell_type": "code",
   "execution_count": 8,
   "id": "f25f1889",
   "metadata": {},
   "outputs": [],
   "source": [
    "problem = read_user_csv()"
   ]
  },
  {
   "cell_type": "code",
   "execution_count": 9,
   "id": "a86e7e1b",
   "metadata": {},
   "outputs": [
    {
     "data": {
      "text/html": [
       "<div>\n",
       "<style scoped>\n",
       "    .dataframe tbody tr th:only-of-type {\n",
       "        vertical-align: middle;\n",
       "    }\n",
       "\n",
       "    .dataframe tbody tr th {\n",
       "        vertical-align: top;\n",
       "    }\n",
       "\n",
       "    .dataframe thead th {\n",
       "        text-align: right;\n",
       "    }\n",
       "</style>\n",
       "<table border=\"1\" class=\"dataframe\">\n",
       "  <thead>\n",
       "    <tr style=\"text-align: right;\">\n",
       "      <th></th>\n",
       "      <th>Unnamed: 0</th>\n",
       "      <th>problemId</th>\n",
       "      <th>titleKo</th>\n",
       "      <th>level</th>\n",
       "      <th>averageTries</th>\n",
       "      <th>tag-key</th>\n",
       "    </tr>\n",
       "  </thead>\n",
       "  <tbody>\n",
       "    <tr>\n",
       "      <th>0</th>\n",
       "      <td>0</td>\n",
       "      <td>1000</td>\n",
       "      <td>A+B</td>\n",
       "      <td>1</td>\n",
       "      <td>2.3692</td>\n",
       "      <td>['arithmetic', 'implementation', 'math']</td>\n",
       "    </tr>\n",
       "    <tr>\n",
       "      <th>1</th>\n",
       "      <td>1</td>\n",
       "      <td>1001</td>\n",
       "      <td>A-B</td>\n",
       "      <td>1</td>\n",
       "      <td>1.3977</td>\n",
       "      <td>['arithmetic', 'implementation', 'math']</td>\n",
       "    </tr>\n",
       "    <tr>\n",
       "      <th>2</th>\n",
       "      <td>2</td>\n",
       "      <td>1271</td>\n",
       "      <td>엄청난 부자2</td>\n",
       "      <td>1</td>\n",
       "      <td>3.0061</td>\n",
       "      <td>['arbitrary_precision', 'arithmetic', 'math']</td>\n",
       "    </tr>\n",
       "    <tr>\n",
       "      <th>3</th>\n",
       "      <td>3</td>\n",
       "      <td>1550</td>\n",
       "      <td>16진수</td>\n",
       "      <td>1</td>\n",
       "      <td>1.5381</td>\n",
       "      <td>['implementation', 'math']</td>\n",
       "    </tr>\n",
       "    <tr>\n",
       "      <th>4</th>\n",
       "      <td>4</td>\n",
       "      <td>2338</td>\n",
       "      <td>긴자리 계산</td>\n",
       "      <td>1</td>\n",
       "      <td>1.9530</td>\n",
       "      <td>['arbitrary_precision', 'arithmetic', 'math']</td>\n",
       "    </tr>\n",
       "    <tr>\n",
       "      <th>...</th>\n",
       "      <td>...</td>\n",
       "      <td>...</td>\n",
       "      <td>...</td>\n",
       "      <td>...</td>\n",
       "      <td>...</td>\n",
       "      <td>...</td>\n",
       "    </tr>\n",
       "    <tr>\n",
       "      <th>5593</th>\n",
       "      <td>5593</td>\n",
       "      <td>21837</td>\n",
       "      <td>Border Restrictions</td>\n",
       "      <td>10</td>\n",
       "      <td>2.7500</td>\n",
       "      <td>['bfs', 'data_structures', 'graphs', 'graph_tr...</td>\n",
       "    </tr>\n",
       "    <tr>\n",
       "      <th>5594</th>\n",
       "      <td>5594</td>\n",
       "      <td>21855</td>\n",
       "      <td>DNA</td>\n",
       "      <td>10</td>\n",
       "      <td>1.2500</td>\n",
       "      <td>['bitmask', 'constructive']</td>\n",
       "    </tr>\n",
       "    <tr>\n",
       "      <th>5595</th>\n",
       "      <td>5595</td>\n",
       "      <td>21917</td>\n",
       "      <td>Mistake</td>\n",
       "      <td>10</td>\n",
       "      <td>1.1429</td>\n",
       "      <td>['graphs', 'greedy', 'topological_sorting']</td>\n",
       "    </tr>\n",
       "    <tr>\n",
       "      <th>5596</th>\n",
       "      <td>5596</td>\n",
       "      <td>21937</td>\n",
       "      <td>작업</td>\n",
       "      <td>10</td>\n",
       "      <td>2.1160</td>\n",
       "      <td>['dfs', 'graphs', 'graph_traversal']</td>\n",
       "    </tr>\n",
       "    <tr>\n",
       "      <th>5597</th>\n",
       "      <td>5597</td>\n",
       "      <td>21959</td>\n",
       "      <td>Subway</td>\n",
       "      <td>10</td>\n",
       "      <td>1.1250</td>\n",
       "      <td>['combinatorics', 'constructive', 'math', 'tre...</td>\n",
       "    </tr>\n",
       "  </tbody>\n",
       "</table>\n",
       "<p>5598 rows × 6 columns</p>\n",
       "</div>"
      ],
      "text/plain": [
       "      Unnamed: 0  problemId              titleKo  level  averageTries  \\\n",
       "0              0       1000                  A+B      1        2.3692   \n",
       "1              1       1001                  A-B      1        1.3977   \n",
       "2              2       1271              엄청난 부자2      1        3.0061   \n",
       "3              3       1550                 16진수      1        1.5381   \n",
       "4              4       2338               긴자리 계산      1        1.9530   \n",
       "...          ...        ...                  ...    ...           ...   \n",
       "5593        5593      21837  Border Restrictions     10        2.7500   \n",
       "5594        5594      21855                  DNA     10        1.2500   \n",
       "5595        5595      21917              Mistake     10        1.1429   \n",
       "5596        5596      21937                   작업     10        2.1160   \n",
       "5597        5597      21959               Subway     10        1.1250   \n",
       "\n",
       "                                                tag-key  \n",
       "0              ['arithmetic', 'implementation', 'math']  \n",
       "1              ['arithmetic', 'implementation', 'math']  \n",
       "2         ['arbitrary_precision', 'arithmetic', 'math']  \n",
       "3                            ['implementation', 'math']  \n",
       "4         ['arbitrary_precision', 'arithmetic', 'math']  \n",
       "...                                                 ...  \n",
       "5593  ['bfs', 'data_structures', 'graphs', 'graph_tr...  \n",
       "5594                        ['bitmask', 'constructive']  \n",
       "5595        ['graphs', 'greedy', 'topological_sorting']  \n",
       "5596               ['dfs', 'graphs', 'graph_traversal']  \n",
       "5597  ['combinatorics', 'constructive', 'math', 'tre...  \n",
       "\n",
       "[5598 rows x 6 columns]"
      ]
     },
     "execution_count": 9,
     "metadata": {},
     "output_type": "execute_result"
    }
   ],
   "source": [
    "problem"
   ]
  },
  {
   "cell_type": "code",
   "execution_count": 11,
   "id": "2be2de7e",
   "metadata": {},
   "outputs": [],
   "source": [
    "dic = {}\n",
    "for i in range(len(problem)) :\n",
    "    dic[problem['problemId'][i]] = problem['level'][i]"
   ]
  },
  {
   "cell_type": "code",
   "execution_count": 14,
   "id": "764f4ed8",
   "metadata": {},
   "outputs": [
    {
     "data": {
      "text/plain": [
       "1"
      ]
     },
     "execution_count": 14,
     "metadata": {},
     "output_type": "execute_result"
    }
   ],
   "source": [
    "dic.get(1000)"
   ]
  },
  {
   "cell_type": "code",
   "execution_count": null,
   "id": "c98ee734",
   "metadata": {},
   "outputs": [],
   "source": []
  }
 ],
 "metadata": {
  "kernelspec": {
   "display_name": "Python 3 (ipykernel)",
   "language": "python",
   "name": "python3"
  },
  "language_info": {
   "codemirror_mode": {
    "name": "ipython",
    "version": 3
   },
   "file_extension": ".py",
   "mimetype": "text/x-python",
   "name": "python",
   "nbconvert_exporter": "python",
   "pygments_lexer": "ipython3",
   "version": "3.9.13"
  }
 },
 "nbformat": 4,
 "nbformat_minor": 5
}
