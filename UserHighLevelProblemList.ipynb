{
 "cells": [
  {
   "cell_type": "code",
   "execution_count": 84,
   "id": "e3384b2d",
   "metadata": {},
   "outputs": [],
   "source": [
    "import pandas as pd\n",
    "import numpy as np\n",
    "import csv\n",
    "from bs4 import BeautifulSoup as bs\n",
    "import requests\n",
    "from urllib.request import Request, urlopen"
   ]
  },
  {
   "cell_type": "code",
   "execution_count": 85,
   "id": "8089a933",
   "metadata": {},
   "outputs": [],
   "source": [
    "import re\n",
    "def DataCrawl(userId):\n",
    "    # BaseUrl인 BackJoon에 사용자 ID를 더해 크롤링 주소를 만든다.\n",
    "    \n",
    "    crawling_url = 'https://www.acmicpc.net/user/'\n",
    "    crawling_url = crawling_url + userId\n",
    "    response = requests.get(crawling_url, headers={'User-Agent': 'Mozilla/5.0'})\n",
    "    \n",
    "    text = response.text\n",
    "    \n",
    "    status = response.status_code;\n",
    "    if(status >= 400 | status < 500):\n",
    "        return None\n",
    "\n",
    "    soup = bs(text, \"html.parser\")\n",
    "        \n",
    "    user_Detail = soup.find_all('div',{'class':'panel panel-default'})\n",
    "    cnt = 0 # panel panel-default가 여러개 존재하므로, 맞춘 문제(2번째) 항목 판별\n",
    "    for user in user_Detail:\n",
    "        if(cnt == 1):\n",
    "            solved_Detail = soup.find('div',{'class':'problem-list'})\n",
    "            if (not solved_Detail):\n",
    "                break\n",
    "            solved = solved_Detail.find_all(\"a\")\n",
    "            for i in solved:\n",
    "                href = i.attrs['href']\n",
    "                href = re.sub('/problem/', '', href)\n",
    "                lists.append(href)\n",
    "                \n",
    "            return lists\n",
    "            break\n",
    "        else:\n",
    "            cnt = cnt + 1"
   ]
  },
  {
   "cell_type": "code",
   "execution_count": 86,
   "id": "152d4ce2",
   "metadata": {},
   "outputs": [],
   "source": [
    "def getProblems(user) :\n",
    "    lists = []\n",
    "\n",
    "    # User 검색 후 맞춘 문제 리스트로 출력\n",
    "    userSolved_list = DataCrawl(user)\n",
    "\n",
    "    if userSolved_list == None :\n",
    "        return None\n",
    "\n",
    "    else :  \n",
    "        problem = pd.read_csv(\"data/problemDetail.csv\")\n",
    "\n",
    "        dic = {}\n",
    "        for i in range(len(problem)) :\n",
    "            dic[problem['problemId'][i]] = problem['level'][i]\n",
    "\n",
    "        problems = {}\n",
    "        for i in userSolved_list :\n",
    "            data = dic.get(int(i))\n",
    "            if data!=None:\n",
    "                problems[i] = data\n",
    "\n",
    "        problems = list(zip(problems.values(), problems.keys()))\n",
    "        problems.sort(key=lambda x: (-x[0],x[1]))\n",
    "        \n",
    "        problem_list = []\n",
    "        for i in range(len(problems)):\n",
    "            if i == 5:\n",
    "                break\n",
    "            problem_list.append(problems[i][1])\n",
    "        return problem_list"
   ]
  },
  {
   "cell_type": "code",
   "execution_count": 87,
   "id": "f82938e2",
   "metadata": {},
   "outputs": [
    {
     "data": {
      "text/plain": [
       "['1052', '1074', '1149', '11660', '12852']"
      ]
     },
     "execution_count": 87,
     "metadata": {},
     "output_type": "execute_result"
    }
   ],
   "source": [
    "getProblems(\"jeeseob5761\")"
   ]
  },
  {
   "cell_type": "code",
   "execution_count": null,
   "id": "c45f8f86",
   "metadata": {},
   "outputs": [],
   "source": []
  }
 ],
 "metadata": {
  "kernelspec": {
   "display_name": "Python 3 (ipykernel)",
   "language": "python",
   "name": "python3"
  },
  "language_info": {
   "codemirror_mode": {
    "name": "ipython",
    "version": 3
   },
   "file_extension": ".py",
   "mimetype": "text/x-python",
   "name": "python",
   "nbconvert_exporter": "python",
   "pygments_lexer": "ipython3",
   "version": "3.9.13"
  }
 },
 "nbformat": 4,
 "nbformat_minor": 5
}
