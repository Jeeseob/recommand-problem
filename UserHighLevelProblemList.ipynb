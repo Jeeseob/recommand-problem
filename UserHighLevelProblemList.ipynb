{
 "cells": [
  {
   "cell_type": "code",
   "execution_count": 17,
   "id": "e3384b2d",
   "metadata": {},
   "outputs": [],
   "source": [
    "import csv\n",
    "from bs4 import BeautifulSoup as bs\n",
    "import requests\n",
    "import re"
   ]
  },
  {
   "cell_type": "code",
   "execution_count": 18,
   "id": "8089a933",
   "metadata": {},
   "outputs": [],
   "source": [
    "# def DataCrawl(userId):\n",
    "#     # BaseUrl인 BackJoon에 사용자 ID를 더해 크롤링 주소를 만든다.\n",
    "    \n",
    "#     crawling_url = 'https://www.acmicpc.net/user/'\n",
    "#     crawling_url = crawling_url + userId\n",
    "#     response = requests.get(crawling_url, headers={'User-Agent': 'Mozilla/5.0'})\n",
    "    \n",
    "#     text = response.text\n",
    "    \n",
    "#     status = response.status_code;\n",
    "#     if(status >= 400 | status < 500):\n",
    "#         return None\n",
    "\n",
    "#     soup = bs(text, \"html.parser\")\n",
    "        \n",
    "#     user_Detail = soup.find_all('div',{'class':'panel panel-default'})\n",
    "#     cnt = 0 # panel panel-default가 여러개 존재하므로, 맞춘 문제(2번째) 항목 판별\n",
    "#     for user in user_Detail:\n",
    "#         if(cnt == 1):\n",
    "#             solved_Detail = soup.find('div',{'class':'problem-list'})\n",
    "#             if (not solved_Detail):\n",
    "#                 break\n",
    "#             solved = solved_Detail.find_all(\"a\")\n",
    "#             for i in solved:\n",
    "#                 href = i.attrs['href']\n",
    "#                 href = re.sub('/problem/', '', href)\n",
    "#                 lists.append(href)\n",
    "                \n",
    "#             return lists\n",
    "#             break\n",
    "#         else:\n",
    "#             cnt = cnt + 1"
   ]
  },
  {
   "cell_type": "code",
   "execution_count": 19,
   "id": "152d4ce2",
   "metadata": {},
   "outputs": [],
   "source": [
    "# def getProblems(user) :\n",
    "\n",
    "#     # User 검색 후 맞춘 문제 리스트로 출력\n",
    "#     userSolved_list = DataCrawl(user)\n",
    "\n",
    "#     if userSolved_list == None :\n",
    "#         return None\n",
    "\n",
    "#     else :  \n",
    "#         problem = pd.read_csv(\"problemDetail.csv\")\n",
    "\n",
    "#         dic = {}\n",
    "#         for i in range(len(problem)) :\n",
    "#             dic[problem['problemId'][i]] = problem['level'][i]\n",
    "\n",
    "#         problems = {}\n",
    "#         for i in userSolved_list :\n",
    "#             data = dic.get(int(i))\n",
    "#             if data!=None:\n",
    "#                 problems[i] = data\n",
    "\n",
    "#         problems = list(zip(problems.values(), problems.keys()))\n",
    "#         problems.sort(key=lambda x: (-x[0],x[1]))\n",
    "        \n",
    "#         problem_list = []\n",
    "#         for i in range(len(problems)):\n",
    "#             if i == 5:\n",
    "#                 break\n",
    "#             problem_list.append(problems[i][1])\n",
    "#         return problem_list"
   ]
  },
  {
   "cell_type": "code",
   "execution_count": 20,
   "id": "65747897",
   "metadata": {},
   "outputs": [],
   "source": [
    "# class 하나로 합치기\n",
    "class UserHighLevelProblemList:\n",
    "    \n",
    "    def __init__(self):\n",
    "        self.lists = []\n",
    "        \n",
    "    def DataCrawl(self, userId):\n",
    "        crawling_url = 'https://www.acmicpc.net/user/'\n",
    "        crawling_url = crawling_url + userId\n",
    "        response = requests.get(crawling_url, headers={'User-Agent': 'Mozilla/5.0'})\n",
    "        text = response.text\n",
    "        \n",
    "        status = response.status_code;\n",
    "        if(status >= 400 | status < 500):\n",
    "            return None\n",
    "        \n",
    "        soup = bs(text, \"html.parser\")\n",
    "        user_Detail = soup.find_all('div',{'class':'panel panel-default'})\n",
    "        cnt = 0 # panel panel-default가 여러개 존재하므로, 맞춘 문제(2번째) 항목 판별\n",
    "        for user in user_Detail:\n",
    "            if(cnt == 1):\n",
    "                solved_Detail = soup.find('div',{'class':'problem-list'})\n",
    "                if (not solved_Detail):\n",
    "                    break              \n",
    "                solved = solved_Detail.find_all(\"a\")\n",
    "                for i in solved:\n",
    "                    href = i.attrs['href']\n",
    "                    href = re.sub('/problem/', '', href)\n",
    "                    self.lists.append(href)\n",
    "                \n",
    "                return self.lists\n",
    "                break\n",
    "            else:\n",
    "                cnt = cnt + 1\n",
    "            \n",
    "    def getProblems(self, userId):\n",
    "        # User 검색 후 맞춘 문제 리스트로 출력\n",
    "        \n",
    "        userSolved_list = self.DataCrawl(userId)\n",
    "        \n",
    "        if userSolved_list == None :\n",
    "            return None\n",
    "        else :  \n",
    "            problem = pd.read_csv(\"problemDetail.csv\")\n",
    "            dic = {}\n",
    "            for i in range(len(problem)) :\n",
    "                dic[problem['problemId'][i]] = problem['level'][i]\n",
    "            \n",
    "            problems = {}\n",
    "            for i in userSolved_list :\n",
    "                data = dic.get(int(i))\n",
    "                if data!=None:\n",
    "                    problems[i] = data\n",
    "\n",
    "\n",
    "            problems = list(zip(problems.values(), problems.keys()))\n",
    "            problems.sort(key=lambda x: (-x[0],x[1]))\n",
    "            problem_list = []\n",
    "            \n",
    "            for i in range(len(problems)):\n",
    "                if i == 5:\n",
    "                    break\n",
    "                problem_list.append(problems[i][1])\n",
    "                \n",
    "            return problem_list"
   ]
  },
  {
   "cell_type": "code",
   "execution_count": 21,
   "id": "f9756b6e",
   "metadata": {},
   "outputs": [],
   "source": [
    "ProblemList = UserHighLevelProblemList()"
   ]
  },
  {
   "cell_type": "code",
   "execution_count": 22,
   "id": "4d3dc050",
   "metadata": {},
   "outputs": [
    {
     "data": {
      "text/plain": [
       "['1052', '1074', '1149', '11660', '12852']"
      ]
     },
     "execution_count": 22,
     "metadata": {},
     "output_type": "execute_result"
    }
   ],
   "source": [
    "ProblemList.getProblems(\"jeeseob5761\")"
   ]
  },
  {
   "cell_type": "code",
   "execution_count": 23,
   "id": "0e856f3d",
   "metadata": {},
   "outputs": [
    {
     "data": {
      "text/plain": [
       "['10035', '10164', '10246', '10252', '10274']"
      ]
     },
     "execution_count": 23,
     "metadata": {},
     "output_type": "execute_result"
    }
   ],
   "source": [
    "ProblemList.getProblems(\"koosaga\")"
   ]
  },
  {
   "cell_type": "code",
   "execution_count": null,
   "id": "e11dd4ce",
   "metadata": {},
   "outputs": [],
   "source": []
  }
 ],
 "metadata": {
  "kernelspec": {
   "display_name": "Python 3",
   "language": "python",
   "name": "python3"
  },
  "language_info": {
   "codemirror_mode": {
    "name": "ipython",
    "version": 3
   },
   "file_extension": ".py",
   "mimetype": "text/x-python",
   "name": "python",
   "nbconvert_exporter": "python",
   "pygments_lexer": "ipython3",
   "version": "3.8.8"
  }
 },
 "nbformat": 4,
 "nbformat_minor": 5
}
