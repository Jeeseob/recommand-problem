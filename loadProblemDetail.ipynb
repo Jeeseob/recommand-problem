{
 "cells": [
  {
   "cell_type": "code",
   "execution_count": 11,
   "id": "156dde5a",
   "metadata": {},
   "outputs": [],
   "source": [
    "import requests\n",
    "import json\n",
    "\n",
    "import pandas as pd\n",
    "import numpy as np\n",
    "\n",
    "import time"
   ]
  },
  {
   "cell_type": "markdown",
   "id": "7ca6ae0b",
   "metadata": {},
   "source": [
    "problemId : 문제 ID \n",
    "titleKo : 문제 제목  \n",
    "level : 문제 난이도\n",
    "averageTries : 평균 시도 횟수\n",
    "tag[key] : Tag key\n",
    "tag[bojTagId] : 백준 Tag ID"
   ]
  },
  {
   "cell_type": "code",
   "execution_count": 12,
   "id": "5bf2526b",
   "metadata": {},
   "outputs": [],
   "source": [
    "tempProblemDF = pd.DataFrame( columns=[\"problemId\", \"titleKo\", \"level\", \"averageTries\", \"tag-key\"])"
   ]
  },
  {
   "cell_type": "code",
   "execution_count": 13,
   "id": "3a125830",
   "metadata": {},
   "outputs": [],
   "source": [
    "def loadProblemJson(problemNumber) :\n",
    "    headerDict = {}\n",
    "    headerDict.setdefault('Content-Type', \"application/json\")\n",
    "    return requests.get(\"https://solved.ac/api/v3/problem/show?problemId=\" + str(problemNumber))"
   ]
  },
  {
   "cell_type": "code",
   "execution_count": 14,
   "id": "18b9c110",
   "metadata": {},
   "outputs": [],
   "source": [
    "def saveProblemListJson(tempProblem) :\n",
    "    tagList = []\n",
    "    for tag in tempProblem['tags'] :\n",
    "        tagList.append(tag['key'])\n",
    "        \n",
    "    tempProblemDF.loc[len(tempProblemDF)] = [\n",
    "        tempProblem['problemId'],\n",
    "        tempProblem['titleKo'],\n",
    "        tempProblem['level'],\n",
    "        tempProblem['averageTries'],\n",
    "        tagList]"
   ]
  },
  {
   "cell_type": "code",
   "execution_count": 15,
   "id": "289e3f89",
   "metadata": {},
   "outputs": [],
   "source": [
    "def loadProblemData(problemList):\n",
    "    errorList = []\n",
    "    for problemNumber in problemList :\n",
    "        apiRequest = loadProblemJson(problemNumber)\n",
    "        if(apiRequest.status_code == 200) :\n",
    "            tempProblem = apiRequest.json()\n",
    "            print(tempProblem['tags'])\n",
    "            saveProblemListJson(tempProblem)\n",
    "        else :\n",
    "            errorList.append(problemNumber)\n",
    "        time.sleep(5)"
   ]
  },
  {
   "cell_type": "code",
   "execution_count": 16,
   "id": "ff52d35b",
   "metadata": {},
   "outputs": [],
   "source": [
    "def readProblemInfo():\n",
    "     return pd.read_csv(\"problemInfo.csv\")"
   ]
  },
  {
   "cell_type": "code",
   "execution_count": null,
   "id": "eac0cafe",
   "metadata": {
    "scrolled": true
   },
   "outputs": [],
   "source": [
    "problemInfo = readProblemInfo()\n",
    "problemList = np.array(problemInfo['problem'])\n",
    "\n",
    "loadProblemData(problemList)"
   ]
  },
  {
   "cell_type": "code",
   "execution_count": 20,
   "id": "c7c1e1da",
   "metadata": {
    "scrolled": false
   },
   "outputs": [
    {
     "data": {
      "text/html": [
       "<div>\n",
       "<style scoped>\n",
       "    .dataframe tbody tr th:only-of-type {\n",
       "        vertical-align: middle;\n",
       "    }\n",
       "\n",
       "    .dataframe tbody tr th {\n",
       "        vertical-align: top;\n",
       "    }\n",
       "\n",
       "    .dataframe thead th {\n",
       "        text-align: right;\n",
       "    }\n",
       "</style>\n",
       "<table border=\"1\" class=\"dataframe\">\n",
       "  <thead>\n",
       "    <tr style=\"text-align: right;\">\n",
       "      <th></th>\n",
       "      <th>problemId</th>\n",
       "      <th>titleKo</th>\n",
       "      <th>level</th>\n",
       "      <th>averageTries</th>\n",
       "      <th>tag-key</th>\n",
       "    </tr>\n",
       "  </thead>\n",
       "  <tbody>\n",
       "    <tr>\n",
       "      <th>0</th>\n",
       "      <td>1000</td>\n",
       "      <td>A+B</td>\n",
       "      <td>1</td>\n",
       "      <td>2.3692</td>\n",
       "      <td>[arithmetic, implementation, math]</td>\n",
       "    </tr>\n",
       "    <tr>\n",
       "      <th>1</th>\n",
       "      <td>1001</td>\n",
       "      <td>A-B</td>\n",
       "      <td>1</td>\n",
       "      <td>1.3977</td>\n",
       "      <td>[arithmetic, implementation, math]</td>\n",
       "    </tr>\n",
       "    <tr>\n",
       "      <th>2</th>\n",
       "      <td>1271</td>\n",
       "      <td>엄청난 부자2</td>\n",
       "      <td>1</td>\n",
       "      <td>3.0061</td>\n",
       "      <td>[arbitrary_precision, arithmetic, math]</td>\n",
       "    </tr>\n",
       "    <tr>\n",
       "      <th>3</th>\n",
       "      <td>1550</td>\n",
       "      <td>16진수</td>\n",
       "      <td>1</td>\n",
       "      <td>1.5381</td>\n",
       "      <td>[implementation, math]</td>\n",
       "    </tr>\n",
       "    <tr>\n",
       "      <th>4</th>\n",
       "      <td>2338</td>\n",
       "      <td>긴자리 계산</td>\n",
       "      <td>1</td>\n",
       "      <td>1.9530</td>\n",
       "      <td>[arbitrary_precision, arithmetic, math]</td>\n",
       "    </tr>\n",
       "    <tr>\n",
       "      <th>...</th>\n",
       "      <td>...</td>\n",
       "      <td>...</td>\n",
       "      <td>...</td>\n",
       "      <td>...</td>\n",
       "      <td>...</td>\n",
       "    </tr>\n",
       "    <tr>\n",
       "      <th>5593</th>\n",
       "      <td>21837</td>\n",
       "      <td>Border Restrictions</td>\n",
       "      <td>10</td>\n",
       "      <td>2.7500</td>\n",
       "      <td>[bfs, data_structures, graphs, graph_traversal...</td>\n",
       "    </tr>\n",
       "    <tr>\n",
       "      <th>5594</th>\n",
       "      <td>21855</td>\n",
       "      <td>DNA</td>\n",
       "      <td>10</td>\n",
       "      <td>1.2500</td>\n",
       "      <td>[bitmask, constructive]</td>\n",
       "    </tr>\n",
       "    <tr>\n",
       "      <th>5595</th>\n",
       "      <td>21917</td>\n",
       "      <td>Mistake</td>\n",
       "      <td>10</td>\n",
       "      <td>1.1429</td>\n",
       "      <td>[graphs, greedy, topological_sorting]</td>\n",
       "    </tr>\n",
       "    <tr>\n",
       "      <th>5596</th>\n",
       "      <td>21937</td>\n",
       "      <td>작업</td>\n",
       "      <td>10</td>\n",
       "      <td>2.1160</td>\n",
       "      <td>[dfs, graphs, graph_traversal]</td>\n",
       "    </tr>\n",
       "    <tr>\n",
       "      <th>5597</th>\n",
       "      <td>21959</td>\n",
       "      <td>Subway</td>\n",
       "      <td>10</td>\n",
       "      <td>1.1250</td>\n",
       "      <td>[combinatorics, constructive, math, trees]</td>\n",
       "    </tr>\n",
       "  </tbody>\n",
       "</table>\n",
       "<p>5598 rows × 5 columns</p>\n",
       "</div>"
      ],
      "text/plain": [
       "      problemId              titleKo  level  averageTries  \\\n",
       "0          1000                  A+B      1        2.3692   \n",
       "1          1001                  A-B      1        1.3977   \n",
       "2          1271              엄청난 부자2      1        3.0061   \n",
       "3          1550                 16진수      1        1.5381   \n",
       "4          2338               긴자리 계산      1        1.9530   \n",
       "...         ...                  ...    ...           ...   \n",
       "5593      21837  Border Restrictions     10        2.7500   \n",
       "5594      21855                  DNA     10        1.2500   \n",
       "5595      21917              Mistake     10        1.1429   \n",
       "5596      21937                   작업     10        2.1160   \n",
       "5597      21959               Subway     10        1.1250   \n",
       "\n",
       "                                                tag-key  \n",
       "0                    [arithmetic, implementation, math]  \n",
       "1                    [arithmetic, implementation, math]  \n",
       "2               [arbitrary_precision, arithmetic, math]  \n",
       "3                                [implementation, math]  \n",
       "4               [arbitrary_precision, arithmetic, math]  \n",
       "...                                                 ...  \n",
       "5593  [bfs, data_structures, graphs, graph_traversal...  \n",
       "5594                            [bitmask, constructive]  \n",
       "5595              [graphs, greedy, topological_sorting]  \n",
       "5596                     [dfs, graphs, graph_traversal]  \n",
       "5597         [combinatorics, constructive, math, trees]  \n",
       "\n",
       "[5598 rows x 5 columns]"
      ]
     },
     "execution_count": 20,
     "metadata": {},
     "output_type": "execute_result"
    }
   ],
   "source": [
    "tempProblemDF"
   ]
  },
  {
   "cell_type": "code",
   "execution_count": 21,
   "id": "1964b313",
   "metadata": {},
   "outputs": [],
   "source": [
    "tempProblemDF.to_csv(\"ProblemDetail.csv\", mode='w', encoding='utf-8')"
   ]
  },
  {
   "cell_type": "code",
   "execution_count": null,
   "id": "b5844267",
   "metadata": {},
   "outputs": [],
   "source": [
    "# handle을 기반으로 백준에서 푼 문제, 시도했지만 못푼 문제 등 긁어오기..."
   ]
  }
 ],
 "metadata": {
  "kernelspec": {
   "display_name": "Python 3 (ipykernel)",
   "language": "python",
   "name": "python3"
  },
  "language_info": {
   "codemirror_mode": {
    "name": "ipython",
    "version": 3
   },
   "file_extension": ".py",
   "mimetype": "text/x-python",
   "name": "python",
   "nbconvert_exporter": "python",
   "pygments_lexer": "ipython3",
   "version": "3.9.13"
  }
 },
 "nbformat": 4,
 "nbformat_minor": 5
}
